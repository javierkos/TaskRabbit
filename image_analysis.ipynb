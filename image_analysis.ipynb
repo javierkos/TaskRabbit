{
 "cells": [
  {
   "cell_type": "markdown",
   "metadata": {},
   "source": [
    "<h1 style=\"text-align:center;\">Image Analysis</h1>\n",
    "\n",
    "\n",
    "## Table of contents:\n",
    "* [Intro](#sec-intro)\n",
    "* [Prior hypothesis](#sec-hypoth)\n",
    "* [Analysis](#alys-alysis)"
   ]
  },
  {
   "cell_type": "markdown",
   "metadata": {},
   "source": [
    "<h2 id=\"sec-intro\">Intro</h2>\n",
    "\n",
    "For this section we are going to dive into analysing the images that taskers upload to TaskRabbit. We are going to evaluate different image processing APIs which help us determine the ethnicity, gender, age etc. of taskers and perhaps find some sort of correlation between these factors and the prices offered by these taskers (as well as the positivity of the reviews they are given by users)."
   ]
  },
  {
   "cell_type": "markdown",
   "metadata": {},
   "source": [
    "<h2 id=\"sec-intro\">Prior hypotheses</h2>\n",
    "\n",
    "Below are some hypothesis I came up with before starting the analysis. We will later see if these are satisfied in any way or if new theories come to mind.\n",
    "<ol>\n",
    "    <li>Prices of non-white taskers are generally lower as a consequence of the prejudism users show when chosing the right tasker for the job. </li>\n",
    "    <li></li>\n",
    "</ol>"
   ]
  }
 ],
 "metadata": {
  "kernelspec": {
   "display_name": "Python 3",
   "language": "python",
   "name": "python3"
  },
  "language_info": {
   "codemirror_mode": {
    "name": "ipython",
    "version": 3
   },
   "file_extension": ".py",
   "mimetype": "text/x-python",
   "name": "python",
   "nbconvert_exporter": "python",
   "pygments_lexer": "ipython3",
   "version": "3.7.0"
  }
 },
 "nbformat": 4,
 "nbformat_minor": 2
}
